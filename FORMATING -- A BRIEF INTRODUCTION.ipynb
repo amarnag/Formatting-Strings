{
 "cells": [
  {
   "cell_type": "markdown",
   "id": "f3c9b107",
   "metadata": {},
   "source": [
    "Let's define a string and use the format method of strings to make a spiffier\n",
    "printout. Suppose we wanted to print a person's name, age, and weight. Here is\n",
    "a very brief introduction using name, age, and weight to illustrate."
   ]
  },
  {
   "cell_type": "code",
   "execution_count": 1,
   "id": "10558075",
   "metadata": {},
   "outputs": [],
   "source": [
    "nam1 = '\"Teddy\" Roosevelt'\n",
    "nam2 = 'Theodore \"Teddy\" Roosevelt'\n",
    "age = 60    \n",
    "wt = 199.1515115 "
   ]
  },
  {
   "cell_type": "code",
   "execution_count": 2,
   "id": "22fe4b77",
   "metadata": {},
   "outputs": [],
   "source": [
    "# minimal formating -- {n} represents data item n --- notice misalignment\n",
    "out1 = \"name: {0}  age: {1}  weight: {2}\""
   ]
  },
  {
   "cell_type": "code",
   "execution_count": 3,
   "id": "56fefef7",
   "metadata": {},
   "outputs": [
    {
     "name": "stdout",
     "output_type": "stream",
     "text": [
      "name: \"Teddy\" Roosevelt  age: 60  weight: 199.1515115\n",
      "name: Theodore \"Teddy\" Roosevelt  age: 60  weight: 199.1515115\n"
     ]
    }
   ],
   "source": [
    "print(\"name: {0}  age: {1}  weight: {2}\".format(nam1,age,wt))\n",
    "print(\"name: {0}  age: {1}  weight: {2}\".format(nam2,age,wt))"
   ]
  },
  {
   "cell_type": "code",
   "execution_count": 7,
   "id": "0cdd862d",
   "metadata": {},
   "outputs": [
    {
     "name": "stdout",
     "output_type": "stream",
     "text": [
      "name: \"Teddy\" Roosevelt  age: 60  weight: 199.1515115\n",
      "name: Theodore \"Teddy\" Roosevelt  age: 60  weight: 199.1515115\n"
     ]
    }
   ],
   "source": [
    "print(out1.format(nam1,age,wt))\n",
    "print(out1.format(nam2,age,wt))"
   ]
  },
  {
   "cell_type": "code",
   "execution_count": 8,
   "id": "673986b0",
   "metadata": {},
   "outputs": [],
   "source": [
    "# better formatting > means right align (< and ^ would be left and center)\n",
    "# the numbers represent the minimum characters occupied by the datum.\n",
    "out2 = \"name: {0:>26}  age: {1:>4}   weight: {2:>10}\""
   ]
  },
  {
   "cell_type": "code",
   "execution_count": 9,
   "id": "58a970b2",
   "metadata": {},
   "outputs": [
    {
     "name": "stdout",
     "output_type": "stream",
     "text": [
      "name:          \"Teddy\" Roosevelt  age:   60   weight: 199.1515115\n",
      "name: Theodore \"Teddy\" Roosevelt  age:   60   weight: 199.1515115\n"
     ]
    }
   ],
   "source": [
    "print(out2.format(nam1,age,wt))\n",
    "print(out2.format(nam2,age,wt))"
   ]
  },
  {
   "cell_type": "code",
   "execution_count": 10,
   "id": "c14ade0d",
   "metadata": {},
   "outputs": [],
   "source": [
    "# for the float (real number), allocate 5 spaces with 2 to the right of \".\"\n",
    "out3 = \"name: {0:>26}  age: {1:>4}   weight: {2:>5.2f}\""
   ]
  },
  {
   "cell_type": "code",
   "execution_count": 11,
   "id": "0c98156c",
   "metadata": {},
   "outputs": [
    {
     "name": "stdout",
     "output_type": "stream",
     "text": [
      "name:          \"Teddy\" Roosevelt  age:   60   weight: 199.15\n",
      "name: Theodore \"Teddy\" Roosevelt  age:   60   weight: 199.15\n"
     ]
    }
   ],
   "source": [
    "print(out3.format(nam1,age,wt))\n",
    "print(out3.format(nam2,age,wt))"
   ]
  },
  {
   "cell_type": "code",
   "execution_count": 12,
   "id": "46e54687",
   "metadata": {},
   "outputs": [],
   "source": [
    "s = \"my short string\"\n",
    "n = 5.1234"
   ]
  },
  {
   "cell_type": "code",
   "execution_count": 13,
   "id": "653e8cb3",
   "metadata": {},
   "outputs": [
    {
     "name": "stdout",
     "output_type": "stream",
     "text": [
      "Start||my short string          ||End\n"
     ]
    }
   ],
   "source": [
    "print(\"Start||{0:25}||End\".format(s))"
   ]
  },
  {
   "cell_type": "code",
   "execution_count": 14,
   "id": "1bffd26c",
   "metadata": {},
   "outputs": [
    {
     "name": "stdout",
     "output_type": "stream",
     "text": [
      "Start||                   5.1234||End\n"
     ]
    }
   ],
   "source": [
    "print(\"Start||{0:25}||End\".format(n))"
   ]
  },
  {
   "cell_type": "markdown",
   "id": "3a23eec0",
   "metadata": {},
   "source": [
    "#### Exercise: \n",
    "Execute the following string and use it to try some of the following in the\n",
    "print(\"Start||{???}||End\".format(s)) statement that would enable you to see\n",
    "what the format has done.  You can change what is in the {0:  } quickly, \n",
    "Ctrl-Enter to execute and see the result.  Or you can up-arrow and modify\n",
    "the previous version.\n",
    "\n",
    "a) Use {0} to just print the string with no formating; {} does the same thing\n",
    "\n",
    "b) Use {0:25} to print the string allowing a width of 25 characters for it\n",
    "\n",
    "c) Use {0:>25} to print the string right-aligned in a space of 25 characters\n",
    "\n",
    "d) Use {0:<25} to print the string left-aligned in a space of 25 characters\n",
    "\n",
    "e) Use {0:^25} to print the string centered in a space of 25 characters"
   ]
  },
  {
   "cell_type": "code",
   "execution_count": 15,
   "id": "fac56f44",
   "metadata": {},
   "outputs": [],
   "source": [
    "s = \"hello, there\""
   ]
  },
  {
   "cell_type": "code",
   "execution_count": 16,
   "id": "744e2b06",
   "metadata": {},
   "outputs": [
    {
     "name": "stdout",
     "output_type": "stream",
     "text": [
      "Start||hello, there||End\n"
     ]
    }
   ],
   "source": [
    "print(\"Start||{}||End\".format(s))"
   ]
  },
  {
   "cell_type": "code",
   "execution_count": 18,
   "id": "e30c2d7c",
   "metadata": {},
   "outputs": [
    {
     "name": "stdout",
     "output_type": "stream",
     "text": [
      "Start||hello, there||End\n"
     ]
    }
   ],
   "source": [
    "print(\"Start||{0}||End\".format(s)) "
   ]
  },
  {
   "cell_type": "code",
   "execution_count": 19,
   "id": "dffc6391",
   "metadata": {},
   "outputs": [
    {
     "name": "stdout",
     "output_type": "stream",
     "text": [
      "Start||hello, there||End\n",
      "Start||hello, there||End\n",
      "Start||hello, there             ||End\n",
      "Start||             hello, there||End\n",
      "Start||hello, there             ||End\n",
      "Start||      hello, there       ||End\n"
     ]
    }
   ],
   "source": [
    "print(\"Start||{}||End\".format(s))\n",
    "print(\"Start||{0}||End\".format(s))\n",
    "print(\"Start||{0:25}||End\".format(s))\n",
    "print(\"Start||{0:>25}||End\".format(s))\n",
    "print(\"Start||{0:<25}||End\".format(s))\n",
    "print(\"Start||{0:^25}||End\".format(s))"
   ]
  },
  {
   "cell_type": "code",
   "execution_count": null,
   "id": "16ff2d2f",
   "metadata": {},
   "outputs": [],
   "source": []
  }
 ],
 "metadata": {
  "kernelspec": {
   "display_name": "Python 3 (ipykernel)",
   "language": "python",
   "name": "python3"
  },
  "language_info": {
   "codemirror_mode": {
    "name": "ipython",
    "version": 3
   },
   "file_extension": ".py",
   "mimetype": "text/x-python",
   "name": "python",
   "nbconvert_exporter": "python",
   "pygments_lexer": "ipython3",
   "version": "3.9.7"
  }
 },
 "nbformat": 4,
 "nbformat_minor": 5
}
